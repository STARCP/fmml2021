{
  "nbformat": 4,
  "nbformat_minor": 0,
  "metadata": {
    "colab": {
      "name": "07_Defining_Functions.ipynb",
      "provenance": [],
      "include_colab_link": true
    },
    "kernelspec": {
      "name": "python3",
      "display_name": "Python 3"
    },
    "language_info": {
      "name": "python"
    }
  },
  "cells": [
    {
      "cell_type": "markdown",
      "metadata": {
        "id": "view-in-github",
        "colab_type": "text"
      },
      "source": [
        "<a href=\"https://colab.research.google.com/github/STARCP/fmml2021/blob/main/07_Defining_Functions.ipynb\" target=\"_parent\"><img src=\"https://colab.research.google.com/assets/colab-badge.svg\" alt=\"Open In Colab\"/></a>"
      ]
    },
    {
      "cell_type": "code",
      "metadata": {
        "id": "1pqsgNqwnbHE"
      },
      "source": [
        "def inList (my_char, my_list=['a','e','i','o','u']):\n",
        "  \"\"\" this is a function to check whether a char is vowel or not \"\"\"\n",
        "  for each_char in my_list:\n",
        "    if each_char == my_char.lower():\n",
        "      return True\n",
        "  return False"
      ],
      "execution_count": null,
      "outputs": []
    },
    {
      "cell_type": "code",
      "metadata": {
        "id": "SLpNGCWYn6Er"
      },
      "source": [
        "inList('Z', ['x', 'y', 'z'])"
      ],
      "execution_count": null,
      "outputs": []
    },
    {
      "cell_type": "markdown",
      "metadata": {
        "id": "qrakqy_MoL1P"
      },
      "source": [
        " "
      ]
    },
    {
      "cell_type": "code",
      "metadata": {
        "id": "r_KUNOW3rCc6",
        "colab": {
          "base_uri": "https://localhost:8080/"
        },
        "outputId": "d22b6bcd-8409-4057-a139-dcaf9adcd66a"
      },
      "source": [
        "# Write a function to check whether a given number belongs to fibonacci series or not\n",
        "# an interesting property of fibanacci numbers is that a number will belong to fibanacci series if 5*n**2+4 or 5*n**2-4\n",
        "n=int(input(\"enter a number to check if it belongs to fibannaci: \"))\n",
        "def isfib(n):\n",
        "  a=0\n",
        "  b=1\n",
        "  c=1\n",
        "  if(n==0 or n==1):\n",
        "    print(\"given number %d belongs to fibanacci series\"% n)\n",
        "  else:\n",
        "    while(b<n):\n",
        "      c=a+b\n",
        "      a=b\n",
        "      b=c\n",
        "      #print(c,a)\n",
        "    if(c==n):\n",
        "      print(\"given number %d belongs to fibannacii series\"% n)\n",
        "    else:\n",
        "      print(\"given number %d deosn't belongs to fibanacci series\"% n)  \n",
        "\n",
        "isfib(n)"
      ],
      "execution_count": 18,
      "outputs": [
        {
          "output_type": "stream",
          "name": "stdout",
          "text": [
            "enter a number to check if it belongs to fibannaci: 16\n",
            "given number 16 deosn't belongs to fibanacci series\n"
          ]
        }
      ]
    },
    {
      "cell_type": "code",
      "metadata": {
        "id": "d3judKvhs6qW",
        "outputId": "e5db07d9-55ae-442f-9aa9-0deb129627a6",
        "colab": {
          "base_uri": "https://localhost:8080/"
        }
      },
      "source": [
        "from math import sqrt\n",
        "def isperfect(x):\n",
        "  sq1=int(sqrt(x))\n",
        "  if(x==sq1*sq1):\n",
        "    return True\n",
        "  return False\n",
        "def isfib(n):\n",
        "  \n",
        "  return isperfect(5*n*n+4) or isperfect(5*n*n-4)\n",
        "a=int(input(\"enter a number to check if it exists in fibinacci series: \"))\n",
        "if(isfib(a)):\n",
        "  print(\"yes it's a fibinacci\")\n",
        "else:\n",
        "  print(\"No it's not a fibinacci\")\n"
      ],
      "execution_count": 36,
      "outputs": [
        {
          "output_type": "stream",
          "name": "stdout",
          "text": [
            "enter a number to check if it exists in fibinacci series: 34\n",
            "yes it's a fibinacci\n"
          ]
        }
      ]
    },
    {
      "cell_type": "markdown",
      "metadata": {
        "id": "3hfExC9BPkKK"
      },
      "source": [
        "Reference: [Python Documentation on Functions](https://docs.python.org/3/tutorial/controlflow.html#defining-functions)"
      ]
    }
  ]
}