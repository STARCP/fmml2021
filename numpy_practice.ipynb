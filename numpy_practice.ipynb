{
  "nbformat": 4,
  "nbformat_minor": 0,
  "metadata": {
    "colab": {
      "name": "Untitled0.ipynb",
      "provenance": [],
      "collapsed_sections": [],
      "authorship_tag": "ABX9TyO8F1okNLwsaz/f4e0RMYEu",
      "include_colab_link": true
    },
    "kernelspec": {
      "name": "python3",
      "display_name": "Python 3"
    },
    "language_info": {
      "name": "python"
    }
  },
  "cells": [
    {
      "cell_type": "markdown",
      "metadata": {
        "id": "view-in-github",
        "colab_type": "text"
      },
      "source": [
        "<a href=\"https://colab.research.google.com/github/STARCP/fmml2021/blob/main/numpy_practice.ipynb\" target=\"_parent\"><img src=\"https://colab.research.google.com/assets/colab-badge.svg\" alt=\"Open In Colab\"/></a>"
      ]
    },
    {
      "cell_type": "code",
      "metadata": {
        "id": "x940wrYNeCfz"
      },
      "source": [
        ""
      ],
      "execution_count": null,
      "outputs": []
    },
    {
      "cell_type": "markdown",
      "metadata": {
        "id": "vaD3ZewTeFTF"
      },
      "source": [
        "# practice for numpy"
      ]
    },
    {
      "cell_type": "code",
      "metadata": {
        "colab": {
          "base_uri": "https://localhost:8080/",
          "height": 35
        },
        "id": "zDYnD1CGeP1C",
        "outputId": "00a220a9-a370-49da-fc46-fead7ed30758"
      },
      "source": [
        "import numpy as np\n",
        "np.__version__"
      ],
      "execution_count": null,
      "outputs": [
        {
          "output_type": "execute_result",
          "data": {
            "application/vnd.google.colaboratory.intrinsic+json": {
              "type": "string"
            },
            "text/plain": [
              "'1.19.5'"
            ]
          },
          "metadata": {},
          "execution_count": 2
        }
      ]
    },
    {
      "cell_type": "code",
      "metadata": {
        "colab": {
          "base_uri": "https://localhost:8080/"
        },
        "id": "qGHOPPoBedGu",
        "outputId": "14a06158-59a1-4ae6-d2aa-cb1f9e7d2ecf"
      },
      "source": [
        "#given two same dimensional arrays add it element wise\n",
        "a=np.array([1,2,5])\n",
        "b=np.array([2,3,5])\n",
        "print(a+b)"
      ],
      "execution_count": null,
      "outputs": [
        {
          "output_type": "stream",
          "name": "stdout",
          "text": [
            "[ 3  5 10]\n"
          ]
        }
      ]
    },
    {
      "cell_type": "markdown",
      "metadata": {
        "id": "aGHUdMVPe8_g"
      },
      "source": [
        "#given a matrix multipy it with a scalar"
      ]
    },
    {
      "cell_type": "code",
      "metadata": {
        "colab": {
          "base_uri": "https://localhost:8080/"
        },
        "id": "Vf5UIu9rfHyW",
        "outputId": "43d5cbf1-5c10-497a-a7ee-dffc528a1449"
      },
      "source": [
        "a=np.array([5,3,2,1,5])\n",
        "print(a*2)"
      ],
      "execution_count": null,
      "outputs": [
        {
          "output_type": "stream",
          "name": "stdout",
          "text": [
            "[10  6  4  2 10]\n"
          ]
        }
      ]
    },
    {
      "cell_type": "code",
      "metadata": {
        "colab": {
          "base_uri": "https://localhost:8080/"
        },
        "id": "kEEiO28xe3YB",
        "outputId": "4f682d76-3d66-4fd1-aa66-3408df5d1055"
      },
      "source": [
        "#create a identity matrix of size 4-by-4\n",
        "identity_mat=np.identity(4,dtype='int32')\n",
        "print(identity_mat)"
      ],
      "execution_count": null,
      "outputs": [
        {
          "output_type": "stream",
          "name": "stdout",
          "text": [
            "[[1 0 0 0]\n",
            " [0 1 0 0]\n",
            " [0 0 1 0]\n",
            " [0 0 0 1]]\n"
          ]
        }
      ]
    },
    {
      "cell_type": "code",
      "metadata": {
        "colab": {
          "base_uri": "https://localhost:8080/"
        },
        "id": "NoCTIwjMflUJ",
        "outputId": "9c40f6fe-fd8c-4f04-a2cc-0f48357dc6f8"
      },
      "source": [
        "id_mat=np.zeros((4,4),dtype='int8')\n",
        "id_mat[[0,1,2,3],[0,1,2,3]]=1\n",
        "print(id_mat)"
      ],
      "execution_count": null,
      "outputs": [
        {
          "output_type": "stream",
          "name": "stdout",
          "text": [
            "[[1 0 0 0]\n",
            " [0 1 0 0]\n",
            " [0 0 1 0]\n",
            " [0 0 0 1]]\n"
          ]
        }
      ]
    },
    {
      "cell_type": "code",
      "metadata": {
        "colab": {
          "base_uri": "https://localhost:8080/"
        },
        "id": "Sjo7KvfHgArm",
        "outputId": "2cf84ea3-69e4-4ac5-8afe-b9e561871c10"
      },
      "source": [
        "#given a one dimensional array convert it into 2d array\n",
        "a=np.array([1,2,3,4,5,6,7,8,9])\n",
        "a.resize((3,3))\n",
        "print(a)"
      ],
      "execution_count": null,
      "outputs": [
        {
          "output_type": "stream",
          "name": "stdout",
          "text": [
            "[[1 2 3]\n",
            " [4 5 6]\n",
            " [7 8 9]]\n"
          ]
        }
      ]
    },
    {
      "cell_type": "code",
      "metadata": {
        "colab": {
          "base_uri": "https://localhost:8080/"
        },
        "id": "AUbFubvsgqBG",
        "outputId": "a968e3af-4bed-4bbb-b185-97fbe5304abe"
      },
      "source": [
        "#convert given 2d float array to 1d int array\n",
        "a=np.array([x for x in range(9)],dtype='float')\n",
        "a.resize(3,3)\n",
        "print(a.astype('int32'))"
      ],
      "execution_count": null,
      "outputs": [
        {
          "output_type": "stream",
          "name": "stdout",
          "text": [
            "[[0 1 2]\n",
            " [3 4 5]\n",
            " [6 7 8]]\n"
          ]
        }
      ]
    },
    {
      "cell_type": "code",
      "metadata": {
        "colab": {
          "base_uri": "https://localhost:8080/"
        },
        "id": "p0Pvvg2vhjTZ",
        "outputId": "ac17012f-4f5f-49cb-be65-220b2ad93b2e"
      },
      "source": [
        "#convert given 0,1 matrix to boolean type i.e., true of false\n",
        "a=np.array([i%2 for i in range(9)])\n",
        "a.resize((3,3))\n",
        "print(a)\n",
        "o=a.astype('bool')\n",
        "print(o)"
      ],
      "execution_count": null,
      "outputs": [
        {
          "output_type": "stream",
          "name": "stdout",
          "text": [
            "[[0 1 0]\n",
            " [1 0 1]\n",
            " [0 1 0]]\n",
            "[[False  True False]\n",
            " [ True False  True]\n",
            " [False  True False]]\n"
          ]
        }
      ]
    },
    {
      "cell_type": "code",
      "metadata": {
        "colab": {
          "base_uri": "https://localhost:8080/"
        },
        "id": "e4BsOgy1ik21",
        "outputId": "858c6bec-c63a-4ecc-dae2-ee9a1417f3cb"
      },
      "source": [
        "#given two arrays implement horizontal stack\n",
        "a=np.array([i for i in range(1,7)])\n",
        "b=np.array([i for i in range(7,13)])\n",
        "a.resize((2,3))\n",
        "b.resize((2,3))\n",
        "output=np.hstack((a,b))\n",
        "print(output)"
      ],
      "execution_count": null,
      "outputs": [
        {
          "output_type": "stream",
          "name": "stdout",
          "text": [
            "[[ 1  2  3  7  8  9]\n",
            " [ 4  5  6 10 11 12]]\n"
          ]
        }
      ]
    },
    {
      "cell_type": "code",
      "metadata": {
        "colab": {
          "base_uri": "https://localhost:8080/"
        },
        "id": "mVFBQ_FpjmeW",
        "outputId": "fefb7404-7b16-47a0-c913-eb3d271e61e3"
      },
      "source": [
        "#given two arrays implement vertical stack\n",
        "a=np.array([x for x in range(1,7)])\n",
        "b=np.array([x for x in range(7,13)])\n",
        "print('b=',b)\n",
        "print('a=',a)\n",
        "output=np.vstack((a,b))\n",
        "print(output)"
      ],
      "execution_count": null,
      "outputs": [
        {
          "output_type": "stream",
          "name": "stdout",
          "text": [
            "b= [ 7  8  9 10 11 12]\n",
            "a= [1 2 3 4 5 6]\n",
            "[[ 1  2  3  4  5  6]\n",
            " [ 7  8  9 10 11 12]]\n"
          ]
        }
      ]
    },
    {
      "cell_type": "code",
      "metadata": {
        "colab": {
          "base_uri": "https://localhost:8080/"
        },
        "id": "CA0ggj7tkYVy",
        "outputId": "b21d93d5-542e-400a-b6d9-409e017a7053"
      },
      "source": [
        "#create a array of custom number i.e., 2,4,6,...,100\n",
        "a=np.arange(2,101,2)\n",
        "print(a)"
      ],
      "execution_count": null,
      "outputs": [
        {
          "output_type": "stream",
          "name": "stdout",
          "text": [
            "[  2   4   6   8  10  12  14  16  18  20  22  24  26  28  30  32  34  36\n",
            "  38  40  42  44  46  48  50  52  54  56  58  60  62  64  66  68  70  72\n",
            "  74  76  78  80  82  84  86  88  90  92  94  96  98 100]\n"
          ]
        }
      ]
    },
    {
      "cell_type": "code",
      "metadata": {
        "colab": {
          "base_uri": "https://localhost:8080/"
        },
        "id": "oG0QKQ71md-2",
        "outputId": "f4f48a2c-dfa1-4ca0-d536-6375492d477c"
      },
      "source": [
        "#print all the elements which are common in both arrays\n",
        "a=np.array([1,3,4,5,8,9])\n",
        "b=np.array([2,3,6,5,8,1])\n",
        "output=np.where(a==b)\n",
        "print(a[output])"
      ],
      "execution_count": 43,
      "outputs": [
        {
          "output_type": "stream",
          "name": "stdout",
          "text": [
            "[3 5 8]\n"
          ]
        }
      ]
    }
  ]
}